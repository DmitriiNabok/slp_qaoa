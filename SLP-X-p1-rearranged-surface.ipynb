{
 "cells": [
  {
   "cell_type": "code",
   "execution_count": 1,
   "id": "3dc518b3-756d-4c01-8096-1f0d6fd4b737",
   "metadata": {},
   "outputs": [],
   "source": [
    "import numpy as np\n",
    "import matplotlib.pyplot as plt\n",
    "from matplotlib.pyplot import cm\n",
    "import pickle\n",
    "import sys, os, time\n",
    "\n",
    "sys.path.append(os.path.abspath(\"src\"))\n",
    "from slp_model_setup import SegLabel, SLP_Model"
   ]
  },
  {
   "cell_type": "code",
   "execution_count": 2,
   "id": "543a375e-3a9d-4048-9c16-eb768d121482",
   "metadata": {},
   "outputs": [],
   "source": [
    "from qiskit_optimization.converters import QuadraticProgramToQubo\n",
    "from qiskit_optimization.translators import from_docplex_mp\n",
    "\n",
    "from qiskit.circuit import QuantumCircuit, Parameter\n",
    "from qiskit.circuit.library.n_local.qaoa_ansatz import QAOAAnsatz\n",
    "from qiskit.algorithms import VQE\n",
    "\n",
    "from qiskit import Aer, transpile\n",
    "from qiskit.utils import algorithm_globals, QuantumInstance"
   ]
  },
  {
   "cell_type": "markdown",
   "id": "7211a98b-e498-4b8d-8a7f-159a453e848a",
   "metadata": {},
   "source": [
    "## Model"
   ]
  },
  {
   "cell_type": "code",
   "execution_count": 3,
   "id": "4aadf7e9-a67f-443f-a1c0-d9f8ad90d5b7",
   "metadata": {},
   "outputs": [],
   "source": [
    "with open(\"data/hip-dataset.pickle\", \"rb\") as f:\n",
    "    segLabel = pickle.load(f)\n",
    "\n",
    "num_nodes = segLabel.num_detections\n",
    "num_labels = segLabel.num_classes\n",
    "num_segments = 2  # segLabel.max_num_persons\n",
    "\n",
    "# alpha_dc\n",
    "A = segLabel.alphas.copy()\n",
    "A[A > 100] = 100\n",
    "# print(A)\n",
    "\n",
    "# beta_dc_d'c'\n",
    "B = segLabel.betas.copy()\n",
    "# B = np.nan_to_num(B, nan=0.0)\n",
    "# print(B)\n",
    "\n",
    "model = SLP_Model(num_nodes, num_segments, num_labels, A, B)"
   ]
  },
  {
   "cell_type": "code",
   "execution_count": 4,
   "id": "6c1d4d69-bf86-4e83-b9df-005359f1ec0b",
   "metadata": {},
   "outputs": [
    {
     "name": "stdout",
     "output_type": "stream",
     "text": [
      "Model: Segmentation and Labeling\n",
      " - number of variables: 16\n",
      "   - binary=16, integer=0, continuous=0\n",
      " - number of constraints: 0\n",
      "   - linear=0\n",
      " - parameters: defaults\n",
      " - objective: minimize quadratic\n",
      " - problem type is: MIQP\n",
      "objective: -2.200\n",
      "status: OPTIMAL_SOLUTION(2)\n",
      "  x_0_0_0=1\n",
      "  x_1_0_1=1\n",
      "  x_2_1_0=1\n",
      "  x_3_1_1=1\n"
     ]
    }
   ],
   "source": [
    "# Build the DOcplex model of the S&L problem\n",
    "mdl = model.build_model(D=100)\n",
    "mdl.solve()\n",
    "mdl.print_information()\n",
    "mdl.print_solution()\n",
    "\n",
    "x = np.zeros(mdl.number_of_binary_variables)\n",
    "for v in mdl.iter_binary_vars():\n",
    "    x[v.index] = v.solution_value\n",
    "# print(x)\n",
    "\n",
    "obj_exact = mdl.objective_value\n",
    "x_exact = x"
   ]
  },
  {
   "cell_type": "markdown",
   "id": "7bf316a5-d325-4786-9e0c-bcdb8816093d",
   "metadata": {},
   "source": [
    "## QAOA"
   ]
  },
  {
   "cell_type": "code",
   "execution_count": 5,
   "id": "c01d79fe-0c8f-4c0e-8d02-fe2f293ab4f2",
   "metadata": {},
   "outputs": [
    {
     "name": "stdout",
     "output_type": "stream",
     "text": [
      "Offset: 7.760113076590407\n"
     ]
    }
   ],
   "source": [
    "mdl_qp = from_docplex_mp(mdl)\n",
    "# print(mdl_qp.prettyprint())\n",
    "\n",
    "mdl_qubo = QuadraticProgramToQubo().convert(mdl_qp)\n",
    "\n",
    "qubitOp, offset = mdl_qubo.to_ising()\n",
    "\n",
    "if True:\n",
    "    # normalize the Hamiltonian\n",
    "    w_max = np.max(np.abs(qubitOp.primitive.coeffs))\n",
    "    qubitOp.primitive.coeffs /= w_max\n",
    "    offset /= w_max\n",
    "\n",
    "print(\"Offset:\", offset)\n",
    "# print(\"Ising Hamiltonian:\\n\", str(qubitOp))"
   ]
  },
  {
   "cell_type": "code",
   "execution_count": 6,
   "id": "879b5af8-eb9e-4b68-b2b1-368e43481c74",
   "metadata": {},
   "outputs": [
    {
     "name": "stdout",
     "output_type": "stream",
     "text": [
      "Number of quadratic terms:  72\n",
      "QUBO matrix sparsity:  0.6\n"
     ]
    }
   ],
   "source": [
    "# QUBO matrix info\n",
    "q2 = mdl_qubo.objective.quadratic.to_dict()\n",
    "num_qubits = qubitOp.num_qubits\n",
    "num_q2 = len(q2) - num_qubits\n",
    "print(\"Number of quadratic terms: \", num_q2)\n",
    "print(\"QUBO matrix sparsity: \", num_q2 / (num_qubits * (num_qubits - 1) * 0.5))"
   ]
  },
  {
   "cell_type": "markdown",
   "id": "740880b2-c702-4cb2-b2d3-fb946afbba7e",
   "metadata": {},
   "source": [
    "## Standard QAOA ansatz"
   ]
  },
  {
   "cell_type": "code",
   "execution_count": 7,
   "id": "a312461c-cbb5-4ae6-b01d-66d9865dfca4",
   "metadata": {},
   "outputs": [],
   "source": [
    "reps = 1\n",
    "\n",
    "# X mixer initialization\n",
    "initial_state = QuantumCircuit(qubitOp.num_qubits)\n",
    "for n in range(qubitOp.num_qubits):\n",
    "    initial_state.h(n)\n",
    "\n",
    "# X mixer with modified sign wrt. the default Qiskit's version\n",
    "mixer = QuantumCircuit(qubitOp.num_qubits)\n",
    "beta = Parameter(\"β\")\n",
    "for n in range(qubitOp.num_qubits):\n",
    "    mixer.rx(-2 * beta, n)"
   ]
  },
  {
   "cell_type": "code",
   "execution_count": 8,
   "id": "f9c88019-a781-4050-849e-8e604f699dbf",
   "metadata": {},
   "outputs": [
    {
     "name": "stdout",
     "output_type": "stream",
     "text": [
      "Depth:  26\n"
     ]
    }
   ],
   "source": [
    "n_shots = 100\n",
    "\n",
    "seed = 12345\n",
    "algorithm_globals.random_seed = seed\n",
    "backend = Aer.get_backend(\"qasm_simulator\")\n",
    "\n",
    "quantum_instance = QuantumInstance(\n",
    "    backend, seed_simulator=seed, seed_transpiler=seed, shots=n_shots\n",
    ")\n",
    "\n",
    "qc = QAOAAnsatz(qubitOp, reps=reps, initial_state=initial_state, mixer_operator=mixer)\n",
    "qc_tr = transpile(qc, backend=backend)\n",
    "print(\"Depth: \", qc_tr.depth())\n",
    "\n",
    "vqe = VQE(\n",
    "    ansatz=qc,\n",
    "    quantum_instance=quantum_instance,\n",
    ")\n",
    "vqe.optimizer._options[\"maxiter\"] = 0"
   ]
  },
  {
   "cell_type": "markdown",
   "id": "e8f041d4-a6f0-4f4b-9cc1-f1a74475623e",
   "metadata": {},
   "source": [
    "### Surface plot"
   ]
  },
  {
   "cell_type": "code",
   "execution_count": 9,
   "id": "9057a4af-4349-47aa-900e-a69f4291364b",
   "metadata": {},
   "outputs": [],
   "source": [
    "N1 = 20\n",
    "N2 = 20\n",
    "betas = np.linspace(start=-np.pi / 2, stop=np.pi / 2, num=N1)\n",
    "gammas = np.linspace(start=-np.pi / 2, stop=np.pi / 2, num=N2)\n",
    "\n",
    "energy = np.zeros((N1, N2))\n",
    "for i, b in enumerate(betas):\n",
    "    for j, g in enumerate(gammas):\n",
    "        vqe.initial_point = [b, g]\n",
    "        out = vqe.compute_minimum_eigenvalue(qubitOp)\n",
    "        energy[i, j] = out.eigenvalue.real + offset"
   ]
  },
  {
   "cell_type": "code",
   "execution_count": 10,
   "id": "4b9c7bfb-116c-4796-8d2f-4f360c65bf6d",
   "metadata": {},
   "outputs": [
    {
     "data": {
      "image/png": "[encoded data removed]",
      "text/plain": [
       "<Figure size 640x480 with 2 Axes>"
      ]
     },
     "metadata": {},
     "output_type": "display_data"
    }
   ],
   "source": [
    "fig, ax = plt.subplots()\n",
    "im = ax.imshow(\n",
    "    energy.T,\n",
    "    interpolation=None,\n",
    "    origin=\"lower\",\n",
    "    extent=[betas.min(), betas.max(), gammas.min(), gammas.max()],\n",
    "    vmax=None,\n",
    "    aspect=\"auto\",\n",
    "    cmap=\"coolwarm\",\n",
    ")\n",
    "fig.colorbar(im)\n",
    "\n",
    "ax.set_xlabel(r\"$\\beta$\", fontsize=18)\n",
    "ax.set_ylabel(r\"$\\gamma$\", fontsize=18)\n",
    "plt.show()"
   ]
  },
  {
   "cell_type": "markdown",
   "id": "209415fb-797b-4df7-906c-9291e282f11d",
   "metadata": {},
   "source": [
    "## Rearranged QAOA ansatz"
   ]
  },
  {
   "cell_type": "code",
   "execution_count": 11,
   "id": "56da8773-ec1b-4433-9148-17ad0bfe16b3",
   "metadata": {},
   "outputs": [
    {
     "name": "stdout",
     "output_type": "stream",
     "text": [
      "Depth:  19\n"
     ]
    }
   ],
   "source": [
    "def find(s, ch):\n",
    "    return tuple(i for i, ltr in enumerate(s) if ltr == ch)\n",
    "\n",
    "\n",
    "op_list = qubitOp.primitive.to_list()\n",
    "\n",
    "H_dict = dict()\n",
    "for op in op_list:\n",
    "    k = find(op[0], \"Z\")\n",
    "    H_dict[k] = op[1]\n",
    "\n",
    "ops = []\n",
    "for p in range(reps):\n",
    "    permutations = np.arange(num_qubits)  # To decrease the depth of the circuit\n",
    "    for qbits, value in H_dict.items():\n",
    "        s = [\"I\"] * num_qubits\n",
    "        if len(qbits) == 1:\n",
    "            s[qbits[0]] = \"Z\"\n",
    "            ops.append((\"\".join(s), value))\n",
    "    for jj in range(num_qubits):\n",
    "        starting_qubit = jj % 2\n",
    "        for k in range(starting_qubit, num_qubits - 1, 2):\n",
    "            qubit_pair = (permutations[k], permutations[k + 1])\n",
    "            if qubit_pair in H_dict.keys():\n",
    "                s = [\"I\"] * num_qubits\n",
    "                s[qubit_pair[0]] = \"Z\"\n",
    "                s[qubit_pair[1]] = \"Z\"\n",
    "                ops.append((\"\".join(s), H_dict[qubit_pair]))\n",
    "            elif qubit_pair[::-1] in H_dict.keys():\n",
    "                qubit_pair = qubit_pair[::-1]\n",
    "                s[qubit_pair[0]] = \"Z\"\n",
    "                s[qubit_pair[1]] = \"Z\"\n",
    "                ops.append((\"\".join(s), H_dict[qubit_pair]))\n",
    "            permutations[[k, k + 1]] = permutations[[k + 1, k]]\n",
    "\n",
    "qubitOp_1 = qubitOp.from_list(ops)\n",
    "qc_1 = QAOAAnsatz(qubitOp_1, reps=reps, initial_state=initial_state, mixer_operator=mixer)\n",
    "\n",
    "qc_1_tr = transpile(qc_1, backend=backend)\n",
    "print(\"Depth: \", qc_1_tr.depth())"
   ]
  },
  {
   "cell_type": "code",
   "execution_count": 12,
   "id": "1b6c798c-cd19-4af5-93b3-455b8bb23617",
   "metadata": {},
   "outputs": [],
   "source": [
    "n_shots = 100\n",
    "\n",
    "seed = 12345\n",
    "algorithm_globals.random_seed = seed\n",
    "backend = Aer.get_backend(\"qasm_simulator\")\n",
    "quantum_instance = QuantumInstance(\n",
    "    backend, seed_simulator=seed, seed_transpiler=seed, shots=n_shots\n",
    ")\n",
    "\n",
    "vqe = VQE(\n",
    "    ansatz=qc_1,\n",
    "    quantum_instance=quantum_instance,\n",
    ")\n",
    "vqe.optimizer._options[\"maxiter\"] = 0"
   ]
  },
  {
   "cell_type": "markdown",
   "id": "20c2a9c6-5c01-4a5e-9d51-25be39c5ea48",
   "metadata": {},
   "source": [
    "### Surface plot"
   ]
  },
  {
   "cell_type": "code",
   "execution_count": 13,
   "id": "f8a2f685-9ed5-416b-98fa-edb0f1cd0def",
   "metadata": {},
   "outputs": [],
   "source": [
    "N1 = 20\n",
    "N2 = 20\n",
    "\n",
    "betas = np.linspace(start=-np.pi / 2, stop=np.pi / 2, num=N1)\n",
    "gammas = np.linspace(start=-np.pi / 2, stop=np.pi / 2, num=N2)\n",
    "\n",
    "energy = np.zeros((N1, N2))\n",
    "for i, b in enumerate(betas):\n",
    "    for j, g in enumerate(gammas):\n",
    "        vqe.initial_point = [b, g]\n",
    "        out = vqe.compute_minimum_eigenvalue(qubitOp)\n",
    "        energy[i, j] = out.eigenvalue.real + offset"
   ]
  },
  {
   "cell_type": "code",
   "execution_count": 14,
   "id": "79f9552e-eafa-44d7-b748-72dc739de353",
   "metadata": {},
   "outputs": [
    {
     "data": {
      "image/png": "[encoded data removed]",
      "text/plain": [
       "<Figure size 640x480 with 2 Axes>"
      ]
     },
     "metadata": {},
     "output_type": "display_data"
    }
   ],
   "source": [
    "fig, ax = plt.subplots()\n",
    "im = ax.imshow(\n",
    "    energy.T,\n",
    "    interpolation=None,\n",
    "    origin=\"lower\",\n",
    "    extent=[betas.min(), betas.max(), gammas.min(), gammas.max()],\n",
    "    vmax=None,\n",
    "    aspect=\"auto\",\n",
    "    cmap=\"coolwarm\",\n",
    ")\n",
    "fig.colorbar(im)\n",
    "\n",
    "ax.set_xlabel(r\"$\\beta$\", fontsize=18)\n",
    "ax.set_ylabel(r\"$\\gamma$\", fontsize=18)\n",
    "plt.show()"
   ]
  },
  {
   "cell_type": "code",
   "execution_count": null,
   "id": "15839fc6-202e-4187-8ff2-8d790edb47b7",
   "metadata": {},
   "outputs": [],
   "source": []
  }
 ],
 "metadata": {
  "kernelspec": {
   "display_name": "qaoa",
   "language": "python",
   "name": "qaoa"
  },
  "language_info": {
   "codemirror_mode": {
    "name": "ipython",
    "version": 3
   },
   "file_extension": ".py",
   "mimetype": "text/x-python",
   "name": "python",
   "nbconvert_exporter": "python",
   "pygments_lexer": "ipython3",
   "version": "3.10.8"
  }
 },
 "nbformat": 4,
 "nbformat_minor": 5
}
