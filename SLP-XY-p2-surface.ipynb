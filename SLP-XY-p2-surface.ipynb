{
 "cells": [
  {
   "cell_type": "code",
   "execution_count": 1,
   "id": "97772961-b2eb-4de3-be64-00da942f1e22",
   "metadata": {},
   "outputs": [],
   "source": [
    "import numpy as np\n",
    "import matplotlib.pyplot as plt\n",
    "from matplotlib.pyplot import cm\n",
    "import pickle\n",
    "import sys, os, time\n",
    "\n",
    "sys.path.append(os.path.abspath(\"src\"))\n",
    "from slp_model_setup import SegLabel, SLP_Model\n",
    "from common import linear_ramp_params, get_counts, plot_solutions"
   ]
  },
  {
   "cell_type": "code",
   "execution_count": 2,
   "id": "43dd87b1-9d34-4e6d-be03-2ddb46a8408e",
   "metadata": {},
   "outputs": [],
   "source": [
    "from qiskit_optimization.converters import QuadraticProgramToQubo\n",
    "from qiskit_optimization.translators import from_docplex_mp\n",
    "\n",
    "from qiskit.circuit import QuantumCircuit, Parameter\n",
    "from qiskit.algorithms import QAOA\n",
    "from qiskit.algorithms.optimizers import COBYLA\n",
    "\n",
    "from qiskit import Aer\n",
    "from qiskit.utils import algorithm_globals, QuantumInstance"
   ]
  },
  {
   "cell_type": "markdown",
   "id": "7211a98b-e498-4b8d-8a7f-159a453e848a",
   "metadata": {},
   "source": [
    "## Model"
   ]
  },
  {
   "cell_type": "code",
   "execution_count": 3,
   "id": "4aadf7e9-a67f-443f-a1c0-d9f8ad90d5b7",
   "metadata": {},
   "outputs": [],
   "source": [
    "with open(\"data/hip-dataset.pickle\", \"rb\") as f:\n",
    "    segLabel = pickle.load(f)\n",
    "\n",
    "num_nodes = segLabel.num_detections\n",
    "num_labels = segLabel.num_classes\n",
    "num_segments = 2  # segLabel.max_num_persons\n",
    "\n",
    "# alpha_dc\n",
    "A = segLabel.alphas.copy()\n",
    "A[A > 100] = 100\n",
    "# print(A)\n",
    "\n",
    "# beta_dc_d'c'\n",
    "B = segLabel.betas.copy()\n",
    "# B = np.nan_to_num(B, nan=0.0)\n",
    "# print(B)\n",
    "\n",
    "model = SLP_Model(num_nodes, num_segments, num_labels, A, B)"
   ]
  },
  {
   "cell_type": "code",
   "execution_count": 4,
   "id": "b8277a36-ddf7-467a-a8de-a94780e9ec95",
   "metadata": {},
   "outputs": [
    {
     "name": "stdout",
     "output_type": "stream",
     "text": [
      "Model: Segmentation and Labeling\n",
      " - number of variables: 16\n",
      "   - binary=16, integer=0, continuous=0\n",
      " - number of constraints: 0\n",
      "   - linear=0\n",
      " - parameters: defaults\n",
      " - objective: minimize quadratic\n",
      " - problem type is: MIQP\n",
      "objective: -2.200\n",
      "status: OPTIMAL_SOLUTION(2)\n",
      "  x_0_0_0=1\n",
      "  x_1_0_1=1\n",
      "  x_2_1_0=1\n",
      "  x_3_1_1=1\n"
     ]
    }
   ],
   "source": [
    "# Build the DOcplex model of the S&L problem\n",
    "mdl = model.build_model(D=100)  # enable constraints\n",
    "mdl.solve()\n",
    "mdl.print_information()\n",
    "mdl.print_solution()\n",
    "\n",
    "x = np.zeros(mdl.number_of_binary_variables)\n",
    "for v in mdl.iter_binary_vars():\n",
    "    x[v.index] = v.solution_value\n",
    "# print(x)\n",
    "\n",
    "obj_exact = mdl.objective_value\n",
    "x_exact = x"
   ]
  },
  {
   "cell_type": "markdown",
   "id": "7bf316a5-d325-4786-9e0c-bcdb8816093d",
   "metadata": {},
   "source": [
    "## QAOA"
   ]
  },
  {
   "cell_type": "code",
   "execution_count": 5,
   "id": "38068360-d6b0-4453-a95a-c27a6bc7efc6",
   "metadata": {},
   "outputs": [],
   "source": [
    "# disable constraints: XY mixer QAOA does not require constraints if one accurately builds the initial state (W-state preparation)\n",
    "mdl = model.build_model(D=0)"
   ]
  },
  {
   "cell_type": "code",
   "execution_count": 6,
   "id": "c01d79fe-0c8f-4c0e-8d02-fe2f293ab4f2",
   "metadata": {},
   "outputs": [
    {
     "name": "stdout",
     "output_type": "stream",
     "text": [
      "Offset: 7.585022717734425\n"
     ]
    }
   ],
   "source": [
    "mdl_qp = from_docplex_mp(mdl)\n",
    "# print(mdl_qp.prettyprint())\n",
    "\n",
    "mdl_qubo = QuadraticProgramToQubo().convert(mdl_qp)\n",
    "\n",
    "qubitOp, offset = mdl_qubo.to_ising()\n",
    "\n",
    "if True:\n",
    "    # normalize the Hamiltonian\n",
    "    w_max = np.max(np.abs(qubitOp.primitive.coeffs))\n",
    "    qubitOp.primitive.coeffs /= w_max\n",
    "    offset /= w_max\n",
    "\n",
    "print(\"Offset:\", offset)\n",
    "# print(\"Ising Hamiltonian:\\n\", str(qubitOp))"
   ]
  },
  {
   "cell_type": "code",
   "execution_count": 7,
   "id": "879b5af8-eb9e-4b68-b2b1-368e43481c74",
   "metadata": {},
   "outputs": [
    {
     "name": "stdout",
     "output_type": "stream",
     "text": [
      "Number of quadratic terms:  32\n",
      "QUBO matrix sparsity:  0.26666666666666666\n"
     ]
    }
   ],
   "source": [
    "# QUBO matrix info\n",
    "q2 = mdl_qubo.objective.quadratic.to_dict()\n",
    "num_qubits = qubitOp.num_qubits\n",
    "num_q2 = len(q2) - num_qubits\n",
    "print(\"Number of quadratic terms: \", num_q2)\n",
    "print(\"QUBO matrix sparsity: \", num_q2 / (num_qubits * (num_qubits - 1) * 0.5))"
   ]
  },
  {
   "cell_type": "markdown",
   "id": "95e29e7c-5f03-409b-aa75-9f4da70b3c66",
   "metadata": {},
   "source": [
    "## Initial state"
   ]
  },
  {
   "cell_type": "code",
   "execution_count": 8,
   "id": "67018448-b299-481d-a516-a8e36175cce6",
   "metadata": {},
   "outputs": [],
   "source": [
    "from xy_mixer import xy_mixer_initial_state\n",
    "\n",
    "initial_state = xy_mixer_initial_state(qubitOp.num_qubits, num_nodes, num_labels * num_segments)"
   ]
  },
  {
   "cell_type": "markdown",
   "id": "9371eea3-d5da-4733-9067-76e85f7e5bb1",
   "metadata": {},
   "source": [
    "## Mixer"
   ]
  },
  {
   "cell_type": "code",
   "execution_count": 9,
   "id": "a257c6b5-ad5c-49b2-9a05-1b0238128bbe",
   "metadata": {},
   "outputs": [],
   "source": [
    "from xy_mixer import xy_mixer\n",
    "\n",
    "mixer = xy_mixer(qubitOp.num_qubits, num_nodes, num_labels)"
   ]
  },
  {
   "cell_type": "code",
   "execution_count": 10,
   "id": "f4587618-297b-4367-a9b6-1e75298e5551",
   "metadata": {},
   "outputs": [
    {
     "name": "stdout",
     "output_type": "stream",
     "text": [
      "init: [0.525 0.175 0.175 0.525]\n",
      "dict_values([0.6205424807189877, 0.33381752022010414, 1.0517507014971779, 1.6684710307001656])\n",
      "{'x': [0, 1, 0, 0, 1, 0, 0, 0, 0, 0, 0, 1, 0, 0, 1, 0], 'prob': 0.01171875, 'obj': -2.2, 'feas': True}\n",
      "{'x': [1, 0, 0, 0, 0, 1, 0, 0, 0, 0, 1, 0, 0, 0, 0, 1], 'prob': 0.009765625, 'obj': -2.2, 'feas': True}\n",
      "{'x': [1, 0, 0, 0, 0, 1, 0, 0, 0, 0, 0, 1, 0, 0, 1, 0], 'prob': 0.009765625, 'obj': 15.52, 'feas': True}\n",
      "{'x': [0, 1, 0, 0, 1, 0, 0, 0, 0, 0, 1, 0, 0, 0, 0, 1], 'prob': 0.0029296875, 'obj': 15.52, 'feas': True}\n"
     ]
    }
   ],
   "source": [
    "reps = 2\n",
    "\n",
    "n_shots = 128\n",
    "n_reads = 1024\n",
    "\n",
    "seed = 12345\n",
    "algorithm_globals.random_seed = seed\n",
    "backend = Aer.get_backend(\"qasm_simulator\")\n",
    "quantum_instance = QuantumInstance(\n",
    "    backend, seed_simulator=seed, seed_transpiler=seed, shots=n_shots\n",
    ")\n",
    "\n",
    "opt = COBYLA(maxiter=1000, tol=1e-4)\n",
    "\n",
    "initial_point = linear_ramp_params(reps, slope=0.7)\n",
    "print(\"init:\", initial_point)\n",
    "\n",
    "qaoa = QAOA(\n",
    "    optimizer=opt,\n",
    "    reps=reps,\n",
    "    initial_state=initial_state,\n",
    "    mixer=mixer,\n",
    "    initial_point=initial_point,\n",
    "    quantum_instance=quantum_instance,\n",
    ")\n",
    "\n",
    "results = qaoa.compute_minimum_eigenvalue(qubitOp)\n",
    "print(results.optimal_parameters.values())\n",
    "\n",
    "counts = get_counts(\n",
    "    qaoa.ansatz,\n",
    "    list(results.optimal_parameters.values()),\n",
    "    backend=backend,\n",
    "    n_shots=n_reads,\n",
    "    seed=seed,\n",
    ")\n",
    "\n",
    "sols = []\n",
    "for s, p in counts.items():\n",
    "    x = [int(i) for i in reversed(list(s))]\n",
    "    obj = mdl_qubo.objective.evaluate(x)\n",
    "    sols.append({\"x\": x, \"prob\": p / n_reads, \"obj\": obj, \"feas\": model.is_valid(x)})\n",
    "\n",
    "lowest_obj_sols = sorted(sols, key=lambda k: k[\"obj\"])\n",
    "for s in lowest_obj_sols[:4]:\n",
    "    print(s)"
   ]
  },
  {
   "cell_type": "markdown",
   "id": "674a134e-b6b8-4e51-a317-e25cd83d2665",
   "metadata": {
    "tags": []
   },
   "source": [
    "## Surface plot"
   ]
  },
  {
   "cell_type": "markdown",
   "id": "f2ab9f3e-bada-4925-b70c-f2014954d82a",
   "metadata": {},
   "source": [
    "### (beta_1, gamma_1)"
   ]
  },
  {
   "cell_type": "code",
   "execution_count": 13,
   "id": "bba0ba08-c91c-4225-8342-7316febd1920",
   "metadata": {},
   "outputs": [],
   "source": [
    "N1 = 20\n",
    "N2 = 20\n",
    "betas = np.linspace(start=-np.pi / 2, stop=np.pi / 2, num=N1)\n",
    "gammas = np.linspace(start=-np.pi / 2, stop=2.0, num=N2)\n",
    "\n",
    "params = list(results.optimal_parameters.values())\n",
    "qaoa.optimizer._options[\"maxiter\"] = 0\n",
    "\n",
    "energy = np.zeros((N1, N2))\n",
    "for i, b in enumerate(betas):\n",
    "    for j, g in enumerate(gammas):\n",
    "        params[0], params[1] = b, g\n",
    "        qaoa.initial_point = params\n",
    "        out = qaoa.compute_minimum_eigenvalue(qubitOp)\n",
    "        energy[i, j] = out.eigenvalue.real + offset"
   ]
  },
  {
   "cell_type": "code",
   "execution_count": 14,
   "id": "0d801399-66c9-4f42-991e-50941df4d364",
   "metadata": {},
   "outputs": [
    {
     "data": {
      "image/png": "[encoded data removed]",
      "text/plain": [
       "<Figure size 640x480 with 2 Axes>"
      ]
     },
     "metadata": {},
     "output_type": "display_data"
    }
   ],
   "source": [
    "fig, ax = plt.subplots()\n",
    "im = ax.imshow(\n",
    "    energy.T,\n",
    "    interpolation=None,\n",
    "    origin=\"lower\",\n",
    "    extent=[betas.min(), betas.max(), gammas.min(), gammas.max()],\n",
    "    vmax=None,\n",
    "    aspect=\"auto\",\n",
    "    cmap=\"coolwarm\",\n",
    ")\n",
    "fig.colorbar(im)\n",
    "\n",
    "params = list(results.optimal_parameters.values())\n",
    "ax.scatter(params[0], params[1], marker=\"*\", s=500, c=\"black\")\n",
    "\n",
    "ax.set_xlabel(f\"β$_1$\", fontsize=18)\n",
    "ax.set_ylabel(f\"γ$_1$\", fontsize=18)\n",
    "plt.show()"
   ]
  },
  {
   "cell_type": "markdown",
   "id": "a9e234b7-51c5-4f42-b455-2d51636b6844",
   "metadata": {},
   "source": [
    "### (beta_2, gamma_2)"
   ]
  },
  {
   "cell_type": "code",
   "execution_count": 15,
   "id": "cea1e52c-42e2-4301-8832-f2ad123cf2d2",
   "metadata": {},
   "outputs": [],
   "source": [
    "N1 = 20\n",
    "N2 = 20\n",
    "betas = np.linspace(start=-np.pi / 2, stop=np.pi / 2, num=N1)\n",
    "gammas = np.linspace(start=-np.pi / 2, stop=2.0, num=N2)\n",
    "\n",
    "params = list(results.optimal_parameters.values())\n",
    "qaoa.optimizer._options[\"maxiter\"] = 0\n",
    "\n",
    "energy = np.zeros((N1, N2))\n",
    "for i, b in enumerate(betas):\n",
    "    for j, g in enumerate(gammas):\n",
    "        params[2], params[3] = b, g\n",
    "        qaoa.initial_point = params\n",
    "        out = qaoa.compute_minimum_eigenvalue(qubitOp)\n",
    "        energy[i, j] = out.eigenvalue.real + offset"
   ]
  },
  {
   "cell_type": "code",
   "execution_count": 16,
   "id": "e3f773e7-4744-4109-8ecb-babd75fa55c3",
   "metadata": {},
   "outputs": [
    {
     "data": {
      "image/png": "[encoded data removed]",
      "text/plain": [
       "<Figure size 640x480 with 2 Axes>"
      ]
     },
     "metadata": {},
     "output_type": "display_data"
    }
   ],
   "source": [
    "fig, ax = plt.subplots()\n",
    "im = ax.imshow(\n",
    "    energy.T,\n",
    "    interpolation=None,\n",
    "    origin=\"lower\",\n",
    "    extent=[betas.min(), betas.max(), gammas.min(), gammas.max()],\n",
    "    vmax=None,\n",
    "    aspect=\"auto\",\n",
    "    cmap=\"coolwarm\",\n",
    ")\n",
    "fig.colorbar(im)\n",
    "\n",
    "params = list(results.optimal_parameters.values())\n",
    "ax.scatter(params[2], params[3], marker=\"*\", s=500, c=\"black\")\n",
    "\n",
    "ax.set_xlabel(f\"β$_2$\", fontsize=18)\n",
    "ax.set_ylabel(f\"γ$_2$\", fontsize=18)\n",
    "plt.show()"
   ]
  },
  {
   "cell_type": "code",
   "execution_count": null,
   "id": "9709f67b-8285-4471-bdf5-2b61789a47ec",
   "metadata": {},
   "outputs": [],
   "source": [
    "\n",
    "\n"
   ]
  }
 ],
 "metadata": {
  "kernelspec": {
   "display_name": "qaoa",
   "language": "python",
   "name": "qaoa"
  },
  "language_info": {
   "codemirror_mode": {
    "name": "ipython",
    "version": 3
   },
   "file_extension": ".py",
   "mimetype": "text/x-python",
   "name": "python",
   "nbconvert_exporter": "python",
   "pygments_lexer": "ipython3",
   "version": "3.10.8"
  }
 },
 "nbformat": 4,
 "nbformat_minor": 5
}
