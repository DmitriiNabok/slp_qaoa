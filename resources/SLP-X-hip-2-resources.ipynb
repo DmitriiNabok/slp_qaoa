{
 "cells": [
  {
   "cell_type": "code",
   "execution_count": 1,
   "id": "3dc518b3-756d-4c01-8096-1f0d6fd4b737",
   "metadata": {},
   "outputs": [],
   "source": [
    "import numpy as np\n",
    "import matplotlib.pyplot as plt\n",
    "from matplotlib.pyplot import cm\n",
    "import pickle\n",
    "import sys, os, time\n",
    "\n",
    "sys.path.append(os.path.abspath(\"../src\"))\n",
    "from slp_model_setup import SegLabel, SLP_Model"
   ]
  },
  {
   "cell_type": "code",
   "execution_count": 2,
   "id": "543a375e-3a9d-4048-9c16-eb768d121482",
   "metadata": {},
   "outputs": [],
   "source": [
    "from qiskit_optimization.converters import QuadraticProgramToQubo\n",
    "from qiskit_optimization.translators import from_docplex_mp\n",
    "\n",
    "from qiskit.circuit import QuantumCircuit, Parameter\n",
    "from qiskit.circuit.library.n_local.qaoa_ansatz import QAOAAnsatz\n",
    "from qiskit.algorithms import VQE\n",
    "\n",
    "from qiskit import Aer, transpile\n",
    "from qiskit.utils import algorithm_globals, QuantumInstance\n",
    "\n",
    "from qiskit.providers.fake_provider import FakeGuadalupeV2\n",
    "from qiskit.providers.fake_provider import FakeJakartaV2\n",
    "from qiskit.providers.fake_provider import FakeMumbaiV2\n",
    "from qiskit.providers.fake_provider import FakeWashingtonV2"
   ]
  },
  {
   "cell_type": "code",
   "execution_count": 3,
   "id": "a658431b-93f9-4d55-b578-2b6d16c64893",
   "metadata": {},
   "outputs": [],
   "source": [
    "def get_resources_info(ansatz, backend, p=1, seed=12345):\n",
    "    \"\"\" \"\"\"\n",
    "\n",
    "    n_runs = 10\n",
    "\n",
    "    np.random.seed(seed)\n",
    "    seeds = np.random.randint(0, 2**16, size=(n_runs,))\n",
    "\n",
    "    resources = []\n",
    "    for _seed in seeds:\n",
    "        algorithm_globals.random_seed = _seed\n",
    "        _ansatz = transpile(\n",
    "            ansatz,\n",
    "            backend,\n",
    "            seed_transpiler=_seed,\n",
    "        )\n",
    "        resources.append(\n",
    "            {\n",
    "                \"p\": p,\n",
    "                \"num_qubits\": _ansatz.num_qubits,\n",
    "                \"depth\": _ansatz.depth(),\n",
    "                \"gates\": list(_ansatz.count_ops().items()),\n",
    "            }\n",
    "        )\n",
    "    return resources"
   ]
  },
  {
   "cell_type": "code",
   "execution_count": 4,
   "id": "8b6b71d5-5a9b-418a-943a-fb7d5808ef61",
   "metadata": {},
   "outputs": [],
   "source": [
    "def count_avg_resources(resources):\n",
    "    \"\"\" \"\"\"\n",
    "    n_qubits = resources[0][\"num_qubits\"]\n",
    "    depth = []\n",
    "\n",
    "    gates = dict()\n",
    "    for k in dict(resources[0][\"gates\"]).keys():\n",
    "        gates[k] = []\n",
    "\n",
    "    for entry in resources:\n",
    "        depth.append(entry[\"depth\"])\n",
    "        d = dict(entry[\"gates\"])\n",
    "        for k, v in d.items():\n",
    "            gates[k].append(v)\n",
    "\n",
    "    print(\"\\nResources:\")\n",
    "    print(\"p:\", resources[0][\"p\"])\n",
    "    print(\"n_qubits:\", resources[0][\"num_qubits\"])\n",
    "    print(\"depth:\", np.mean(depth), np.std(depth))\n",
    "    for k, v in gates.items():\n",
    "        print(k, np.mean(v), np.std(v))"
   ]
  },
  {
   "cell_type": "markdown",
   "id": "7211a98b-e498-4b8d-8a7f-159a453e848a",
   "metadata": {},
   "source": [
    "## Model"
   ]
  },
  {
   "cell_type": "code",
   "execution_count": 5,
   "id": "4aadf7e9-a67f-443f-a1c0-d9f8ad90d5b7",
   "metadata": {},
   "outputs": [],
   "source": [
    "with open(\"../data/hip-dataset.pickle\", \"rb\") as f:\n",
    "    segLabel = pickle.load(f)\n",
    "\n",
    "num_nodes = segLabel.num_detections\n",
    "num_labels = segLabel.num_classes\n",
    "num_segments = 2  # segLabel.max_num_persons\n",
    "\n",
    "# alpha_dc\n",
    "A = segLabel.alphas.copy()\n",
    "A[A > 100] = 100\n",
    "# print(A)\n",
    "\n",
    "# beta_dc_d'c'\n",
    "B = segLabel.betas.copy()\n",
    "# B = np.nan_to_num(B, nan=0.0)\n",
    "# print(B)\n",
    "\n",
    "model = SLP_Model(num_nodes, num_segments, num_labels, A, B)"
   ]
  },
  {
   "cell_type": "code",
   "execution_count": 6,
   "id": "6c1d4d69-bf86-4e83-b9df-005359f1ec0b",
   "metadata": {},
   "outputs": [
    {
     "name": "stdout",
     "output_type": "stream",
     "text": [
      "Model: Segmentation and Labeling\n",
      " - number of variables: 16\n",
      "   - binary=16, integer=0, continuous=0\n",
      " - number of constraints: 0\n",
      "   - linear=0\n",
      " - parameters: defaults\n",
      " - objective: minimize quadratic\n",
      " - problem type is: MIQP\n",
      "objective: -2.200\n",
      "status: OPTIMAL_SOLUTION(2)\n",
      "  x_0_0_0=1\n",
      "  x_1_0_1=1\n",
      "  x_2_1_0=1\n",
      "  x_3_1_1=1\n"
     ]
    }
   ],
   "source": [
    "# Build the DOcplex model of the S&L problem\n",
    "mdl = model.build_model(D=100)\n",
    "mdl.solve()\n",
    "mdl.print_information()\n",
    "mdl.print_solution()\n",
    "\n",
    "x = np.zeros(mdl.number_of_binary_variables)\n",
    "for v in mdl.iter_binary_vars():\n",
    "    x[v.index] = v.solution_value\n",
    "# print(x)\n",
    "\n",
    "obj_exact = mdl.objective_value\n",
    "x_exact = x"
   ]
  },
  {
   "cell_type": "markdown",
   "id": "7bf316a5-d325-4786-9e0c-bcdb8816093d",
   "metadata": {},
   "source": [
    "## QAOA"
   ]
  },
  {
   "cell_type": "code",
   "execution_count": 7,
   "id": "c01d79fe-0c8f-4c0e-8d02-fe2f293ab4f2",
   "metadata": {},
   "outputs": [
    {
     "name": "stdout",
     "output_type": "stream",
     "text": [
      "Offset: 7.760113076590407\n"
     ]
    }
   ],
   "source": [
    "mdl_qp = from_docplex_mp(mdl)\n",
    "# print(mdl_qp.prettyprint())\n",
    "\n",
    "mdl_qubo = QuadraticProgramToQubo().convert(mdl_qp)\n",
    "\n",
    "qubitOp, offset = mdl_qubo.to_ising()\n",
    "\n",
    "if True:\n",
    "    # normalize the Hamiltonian\n",
    "    w_max = np.max(np.abs(qubitOp.primitive.coeffs))\n",
    "    qubitOp.primitive.coeffs /= w_max\n",
    "    offset /= w_max\n",
    "\n",
    "print(\"Offset:\", offset)\n",
    "# print(\"Ising Hamiltonian:\\n\", str(qubitOp))"
   ]
  },
  {
   "cell_type": "code",
   "execution_count": 8,
   "id": "879b5af8-eb9e-4b68-b2b1-368e43481c74",
   "metadata": {},
   "outputs": [
    {
     "name": "stdout",
     "output_type": "stream",
     "text": [
      "Number of quadratic terms:  72\n",
      "QUBO matrix sparsity:  0.6\n"
     ]
    }
   ],
   "source": [
    "# QUBO matrix info\n",
    "q2 = mdl_qubo.objective.quadratic.to_dict()\n",
    "num_qubits = qubitOp.num_qubits\n",
    "num_q2 = len(q2) - num_qubits\n",
    "print(\"Number of quadratic terms: \", num_q2)\n",
    "print(\"QUBO matrix sparsity: \", num_q2 / (num_qubits * (num_qubits - 1) * 0.5))"
   ]
  },
  {
   "cell_type": "markdown",
   "id": "740880b2-c702-4cb2-b2d3-fb946afbba7e",
   "metadata": {},
   "source": [
    "## Standard QAOA ansatz"
   ]
  },
  {
   "cell_type": "code",
   "execution_count": 9,
   "id": "a312461c-cbb5-4ae6-b01d-66d9865dfca4",
   "metadata": {},
   "outputs": [],
   "source": [
    "num_qubits = qubitOp.num_qubits\n",
    "reps = 1\n",
    "\n",
    "# QAOA ansatz\n",
    "qc = QAOAAnsatz(qubitOp)"
   ]
  },
  {
   "cell_type": "markdown",
   "id": "441ed812-43c5-4e6b-bc5d-5f640dacb15d",
   "metadata": {},
   "source": [
    "## Rearranged QAOA ansatz"
   ]
  },
  {
   "cell_type": "code",
   "execution_count": 10,
   "id": "0e9009f0-4e50-4d38-9ac7-dc316b0427aa",
   "metadata": {},
   "outputs": [],
   "source": [
    "def find(s, ch):\n",
    "    return tuple(i for i, ltr in enumerate(s) if ltr == ch)\n",
    "\n",
    "\n",
    "op_list = qubitOp.primitive.to_list()\n",
    "\n",
    "H_dict = dict()\n",
    "for op in op_list:\n",
    "    k = find(op[0], \"Z\")\n",
    "    H_dict[k] = op[1]\n",
    "\n",
    "ops = []\n",
    "for p in range(reps):\n",
    "    permutations = np.arange(num_qubits)  # To decrease the depth of the circuit\n",
    "    for qbits, value in H_dict.items():\n",
    "        s = [\"I\"] * num_qubits\n",
    "        if len(qbits) == 1:\n",
    "            s[qbits[0]] = \"Z\"\n",
    "            ops.append((\"\".join(s), value))\n",
    "    for jj in range(num_qubits):\n",
    "        starting_qubit = jj % 2\n",
    "        for k in range(starting_qubit, num_qubits - 1, 2):\n",
    "            qubit_pair = (permutations[k], permutations[k + 1])\n",
    "            if qubit_pair in H_dict.keys():\n",
    "                s = [\"I\"] * num_qubits\n",
    "                s[qubit_pair[0]] = \"Z\"\n",
    "                s[qubit_pair[1]] = \"Z\"\n",
    "                ops.append((\"\".join(s), H_dict[qubit_pair]))\n",
    "            elif qubit_pair[::-1] in H_dict.keys():\n",
    "                qubit_pair = qubit_pair[::-1]\n",
    "                s[qubit_pair[0]] = \"Z\"\n",
    "                s[qubit_pair[1]] = \"Z\"\n",
    "                ops.append((\"\".join(s), H_dict[qubit_pair]))\n",
    "            permutations[[k, k + 1]] = permutations[[k + 1, k]]\n",
    "\n",
    "qubitOp_1 = qubitOp.from_list(ops)\n",
    "qc_1 = QAOAAnsatz(qubitOp_1, reps=reps)"
   ]
  },
  {
   "cell_type": "markdown",
   "id": "bb552926-62b6-4080-ba3a-30ce0430982f",
   "metadata": {},
   "source": [
    "## QASM"
   ]
  },
  {
   "cell_type": "code",
   "execution_count": 11,
   "id": "2bdee18b-f2a8-46ec-9398-714ee0079e35",
   "metadata": {},
   "outputs": [
    {
     "name": "stdout",
     "output_type": "stream",
     "text": [
      "Unorganized (original) circuit:\n",
      "\n",
      "Resources:\n",
      "p: 1\n",
      "n_qubits: 16\n",
      "depth: 26.0 0.0\n",
      "rzz 72.0 0.0\n",
      "h 16.0 0.0\n",
      "rz 16.0 0.0\n",
      "rx 16.0 0.0\n"
     ]
    }
   ],
   "source": [
    "p = 1\n",
    "\n",
    "backend = Aer.get_backend(\"qasm_simulator\")\n",
    "\n",
    "print(\"Unorganized (original) circuit:\")\n",
    "resources = get_resources_info(qc, backend, p=p)\n",
    "count_avg_resources(resources)"
   ]
  },
  {
   "cell_type": "code",
   "execution_count": 12,
   "id": "08887a5e-3666-4e7d-8d30-e94c34083beb",
   "metadata": {},
   "outputs": [
    {
     "name": "stdout",
     "output_type": "stream",
     "text": [
      "Rearranged circuit:\n",
      "\n",
      "Resources:\n",
      "p: 1\n",
      "n_qubits: 16\n",
      "depth: 19.0 0.0\n",
      "rzz 72.0 0.0\n",
      "h 16.0 0.0\n",
      "rz 16.0 0.0\n",
      "rx 16.0 0.0\n"
     ]
    }
   ],
   "source": [
    "p = 1\n",
    "\n",
    "backend = Aer.get_backend(\"qasm_simulator\")\n",
    "\n",
    "print(\"Rearranged circuit:\")\n",
    "resources = get_resources_info(qc_1, backend, p=p)\n",
    "count_avg_resources(resources)"
   ]
  },
  {
   "cell_type": "markdown",
   "id": "1d7d90cc-0c20-478b-94a4-d66fe57a2d0a",
   "metadata": {},
   "source": [
    "## Guadalupe"
   ]
  },
  {
   "cell_type": "code",
   "execution_count": 13,
   "id": "be6c6eda-84e4-47e3-b14b-5030bfe759a0",
   "metadata": {},
   "outputs": [
    {
     "name": "stdout",
     "output_type": "stream",
     "text": [
      "Unorganized (original) circuit:\n",
      "\n",
      "Resources:\n",
      "p: 1\n",
      "n_qubits: 16\n",
      "depth: 182.3 14.765161699080712\n",
      "cx 297.3 17.849649856509792\n",
      "rz 168.0 0.0\n",
      "sx 48.0 0.0\n"
     ]
    }
   ],
   "source": [
    "p = 1\n",
    "\n",
    "backend = FakeGuadalupeV2()\n",
    "\n",
    "print(\"Unorganized (original) circuit:\")\n",
    "resources = get_resources_info(qc, backend, p=p)\n",
    "count_avg_resources(resources)"
   ]
  },
  {
   "cell_type": "code",
   "execution_count": 14,
   "id": "a80262dc-aca9-4c26-8f9e-8158af4c2aa5",
   "metadata": {},
   "outputs": [
    {
     "name": "stdout",
     "output_type": "stream",
     "text": [
      "Rearranged circuit:\n",
      "\n",
      "Resources:\n",
      "p: 1\n",
      "n_qubits: 16\n",
      "depth: 185.7 15.659182609574485\n",
      "cx 365.2 15.606408939919524\n",
      "rz 168.0 0.0\n",
      "sx 48.0 0.0\n"
     ]
    }
   ],
   "source": [
    "p = 1\n",
    "\n",
    "backend = FakeGuadalupeV2()\n",
    "\n",
    "print(\"Rearranged circuit:\")\n",
    "resources = get_resources_info(qc_1, backend, p=p)\n",
    "count_avg_resources(resources)"
   ]
  },
  {
   "cell_type": "markdown",
   "id": "ce59bc8f-435e-4743-8a09-fb3405a5a761",
   "metadata": {},
   "source": [
    "## Mumbai"
   ]
  },
  {
   "cell_type": "code",
   "execution_count": 15,
   "id": "149a672a-19f7-4ec6-9a41-dd0671979577",
   "metadata": {},
   "outputs": [
    {
     "name": "stdout",
     "output_type": "stream",
     "text": [
      "Unorganized (original) circuit:\n",
      "\n",
      "Resources:\n",
      "p: 1\n",
      "n_qubits: 27\n",
      "depth: 217.3 36.0528778324283\n",
      "cx 343.6 39.0517605236947\n",
      "rz 168.0 0.0\n",
      "sx 48.0 0.0\n"
     ]
    }
   ],
   "source": [
    "p = 1\n",
    "\n",
    "backend = FakeMumbaiV2()\n",
    "\n",
    "print(\"Unorganized (original) circuit:\")\n",
    "resources = get_resources_info(qc, backend, p=p)\n",
    "count_avg_resources(resources)"
   ]
  },
  {
   "cell_type": "code",
   "execution_count": 16,
   "id": "aaae5300-1e60-4527-9bb2-d03f670739b3",
   "metadata": {},
   "outputs": [
    {
     "name": "stdout",
     "output_type": "stream",
     "text": [
      "Rearranged circuit:\n",
      "\n",
      "Resources:\n",
      "p: 1\n",
      "n_qubits: 27\n",
      "depth: 194.4 25.4566297847928\n",
      "cx 393.5 37.617150343958805\n",
      "rz 168.0 0.0\n",
      "sx 48.0 0.0\n"
     ]
    }
   ],
   "source": [
    "p = 1\n",
    "\n",
    "backend = FakeMumbaiV2()\n",
    "\n",
    "print(\"Rearranged circuit:\")\n",
    "resources = get_resources_info(qc_1, backend, p=p)\n",
    "count_avg_resources(resources)"
   ]
  },
  {
   "cell_type": "markdown",
   "id": "d883a19c-90eb-4a83-915d-53f590b9dce7",
   "metadata": {},
   "source": [
    "## Washington"
   ]
  },
  {
   "cell_type": "code",
   "execution_count": 17,
   "id": "c5a8af61-ac00-42fe-b2c9-7d0ca1a2af9e",
   "metadata": {
    "tags": []
   },
   "outputs": [
    {
     "name": "stdout",
     "output_type": "stream",
     "text": [
      "Unorganized (original) circuit:\n",
      "\n",
      "Resources:\n",
      "p: 1\n",
      "n_qubits: 127\n",
      "depth: 208.8 27.24628415032039\n",
      "cx 345.5 34.78289809662214\n",
      "rz 168.0 0.0\n",
      "sx 48.0 0.0\n"
     ]
    }
   ],
   "source": [
    "p = 1\n",
    "\n",
    "backend = FakeWashingtonV2()\n",
    "\n",
    "print(\"Unorganized (original) circuit:\")\n",
    "resources = get_resources_info(qc, backend, p=p)\n",
    "count_avg_resources(resources)"
   ]
  },
  {
   "cell_type": "code",
   "execution_count": 18,
   "id": "7174312d-edaa-4a10-a10b-22f31f30e53d",
   "metadata": {
    "tags": []
   },
   "outputs": [
    {
     "name": "stdout",
     "output_type": "stream",
     "text": [
      "Rearranged circuit:\n",
      "\n",
      "Resources:\n",
      "p: 1\n",
      "n_qubits: 127\n",
      "depth: 203.3 30.60408469469394\n",
      "cx 398.3 38.071117661555455\n",
      "rz 168.0 0.0\n",
      "sx 48.0 0.0\n"
     ]
    }
   ],
   "source": [
    "p = 1\n",
    "\n",
    "backend = FakeWashingtonV2()\n",
    "\n",
    "print(\"Rearranged circuit:\")\n",
    "resources = get_resources_info(qc_1, backend, p=p)\n",
    "count_avg_resources(resources)"
   ]
  },
  {
   "cell_type": "code",
   "execution_count": null,
   "id": "8120d783-48a2-49d5-b95e-1aa3a567ce3a",
   "metadata": {},
   "outputs": [],
   "source": []
  },
  {
   "cell_type": "code",
   "execution_count": null,
   "id": "15839fc6-202e-4187-8ff2-8d790edb47b7",
   "metadata": {},
   "outputs": [],
   "source": []
  }
 ],
 "metadata": {
  "kernelspec": {
   "display_name": "qaoa",
   "language": "python",
   "name": "qaoa"
  },
  "language_info": {
   "codemirror_mode": {
    "name": "ipython",
    "version": 3
   },
   "file_extension": ".py",
   "mimetype": "text/x-python",
   "name": "python",
   "nbconvert_exporter": "python",
   "pygments_lexer": "ipython3",
   "version": "3.10.8"
  }
 },
 "nbformat": 4,
 "nbformat_minor": 5
}
